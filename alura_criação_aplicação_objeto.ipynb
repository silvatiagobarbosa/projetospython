{
  "nbformat": 4,
  "nbformat_minor": 0,
  "metadata": {
    "colab": {
      "provenance": [],
      "authorship_tag": "ABX9TyPrf19IXjiTo7qJjSICf1f7",
      "include_colab_link": true
    },
    "kernelspec": {
      "name": "python3",
      "display_name": "Python 3"
    },
    "language_info": {
      "name": "python"
    }
  },
  "cells": [
    {
      "cell_type": "markdown",
      "metadata": {
        "id": "view-in-github",
        "colab_type": "text"
      },
      "source": [
        "<a href=\"https://colab.research.google.com/github/silvatiagobarbosa/projetospython/blob/main/alura_cria%C3%A7%C3%A3o_aplica%C3%A7%C3%A3o_objeto.ipynb\" target=\"_parent\"><img src=\"https://colab.research.google.com/assets/colab-badge.svg\" alt=\"Open In Colab\"/></a>"
      ]
    },
    {
      "cell_type": "code",
      "execution_count": 4,
      "metadata": {
        "id": "uIa6inEPgLKJ"
      },
      "outputs": [],
      "source": [
        "from alura_criação_aplicação_class import Restaurante"
      ]
    },
    {
      "cell_type": "code",
      "source": [
        "restaurante_cuia = Restaurante('Cuia', 'Gourmet')\n",
        "restaurante_demoro = Restaurante('Demoro', 'Bar')\n",
        "restaurante_ajack = Restaurante('AJack', 'Pizzaria')\n",
        "\n",
        "def main():\n",
        "    pass\n",
        "\n",
        "if __name__ == '__main__':\n",
        "    main()"
      ],
      "metadata": {
        "id": "F48SIPAogdhl"
      },
      "execution_count": 5,
      "outputs": []
    },
    {
      "cell_type": "code",
      "source": [
        "Restaurante.listar_restaurantes()"
      ],
      "metadata": {
        "colab": {
          "base_uri": "https://localhost:8080/"
        },
        "id": "vDmRA-QqiF_n",
        "outputId": "79c07c1d-b870-4ed0-a2f9-5bd52e059f2d"
      },
      "execution_count": 7,
      "outputs": [
        {
          "output_type": "stream",
          "name": "stdout",
          "text": [
            "Nome         |Categoria   |Status\n",
            "Cuia         | GOURMET      | ☐\n",
            "Demoro       | BAR          | ☐\n",
            "Ajack        | PIZZARIA     | ☐\n"
          ]
        }
      ]
    },
    {
      "cell_type": "code",
      "source": [
        "restaurante_cuia.alternar_estado()"
      ],
      "metadata": {
        "id": "HXE-pwMZiX42"
      },
      "execution_count": 8,
      "outputs": []
    },
    {
      "cell_type": "code",
      "source": [
        "Restaurante.listar_restaurantes()"
      ],
      "metadata": {
        "colab": {
          "base_uri": "https://localhost:8080/"
        },
        "id": "2s8Di71ziiTt",
        "outputId": "9d0a4bca-8e98-42ca-9f39-9ea4809e2d3d"
      },
      "execution_count": 9,
      "outputs": [
        {
          "output_type": "stream",
          "name": "stdout",
          "text": [
            "Nome         |Categoria   |Status\n",
            "Cuia         | GOURMET      | ⌧\n",
            "Demoro       | BAR          | ☐\n",
            "Ajack        | PIZZARIA     | ☐\n"
          ]
        }
      ]
    },
    {
      "cell_type": "code",
      "source": [],
      "metadata": {
        "id": "6hKKSGuLiks8"
      },
      "execution_count": null,
      "outputs": []
    }
  ]
}