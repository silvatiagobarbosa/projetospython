{
  "nbformat": 4,
  "nbformat_minor": 0,
  "metadata": {
    "colab": {
      "provenance": [],
      "authorship_tag": "ABX9TyPZSQPpia9etJNf/dawrTcY",
      "include_colab_link": true
    },
    "kernelspec": {
      "name": "python3",
      "display_name": "Python 3"
    },
    "language_info": {
      "name": "python"
    }
  },
  "cells": [
    {
      "cell_type": "markdown",
      "metadata": {
        "id": "view-in-github",
        "colab_type": "text"
      },
      "source": [
        "<a href=\"https://colab.research.google.com/github/silvatiagobarbosa/projetospython/blob/main/alura_cria%C3%A7%C3%A3o_aplica%C3%A7%C3%A3o_classe.ipynb\" target=\"_parent\"><img src=\"https://colab.research.google.com/assets/colab-badge.svg\" alt=\"Open In Colab\"/></a>"
      ]
    },
    {
      "cell_type": "code",
      "execution_count": 3,
      "metadata": {
        "id": "RoFTeClDQYDk"
      },
      "outputs": [],
      "source": [
        "class Restaurante:\n",
        "    restaurantes = []\n",
        "\n",
        "    def __init__(self, nome, categoria):\n",
        "        self._nome = nome.title()\n",
        "        self._categoria = categoria.upper()\n",
        "        self._ativo = False\n",
        "        Restaurante.restaurantes.append(self)\n",
        "\n",
        "    def __str__(self):\n",
        "        return f'{self._nome} | {self._categoria}'\n",
        "\n",
        "    @classmethod\n",
        "    def listar_restaurantes(cls):\n",
        "        print('Nome'.ljust(12), '|Categoria'.ljust(12), '|Status')\n",
        "        for restaurante in cls.restaurantes:\n",
        "            print(f'{restaurante._nome.ljust(12)} | {restaurante._categoria.ljust(12)} | {restaurante.ativo}')\n",
        "\n",
        "    @property\n",
        "    def ativo(self):\n",
        "        return '⌧' if self._ativo else '☐'\n",
        "\n",
        "    def alternar_estado(self):\n",
        "        self._ativo = not self._ativo"
      ]
    },
    {
      "cell_type": "code",
      "source": [],
      "metadata": {
        "id": "-N3oxiR2Suak"
      },
      "execution_count": null,
      "outputs": []
    }
  ]
}